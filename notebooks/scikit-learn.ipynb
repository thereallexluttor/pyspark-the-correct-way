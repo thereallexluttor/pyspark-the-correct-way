{
 "cells": [
  {
   "cell_type": "code",
   "execution_count": 1,
   "metadata": {},
   "outputs": [],
   "source": [
    "import pandas as pd"
   ]
  },
  {
   "cell_type": "code",
   "execution_count": 2,
   "metadata": {},
   "outputs": [],
   "source": [
    "pandas_df = pd.read_csv('C:/Users/hedin/Documents/pyspark-the correct way/notebooks/diabetes.csv')\n",
    "pandas_df = pandas_df.loc[(pandas_df['Glucose'] != 0)\n",
    "& (pandas_df['BloodPressure'] != 0)\n",
    "& (pandas_df['BMI'] != 0),\n",
    "['Pregnancies',\n",
    "'Glucose',\n",
    "'BloodPressure',\n",
    "'BMI',\n",
    "'DiabetesPedigreeFunction',\n",
    "'Age',\n",
    "'Outcome'\n",
    "]]"
   ]
  },
  {
   "cell_type": "code",
   "execution_count": 3,
   "metadata": {},
   "outputs": [],
   "source": [
    "#import the libs for the analisis\n",
    "from sklearn.preprocessing import StandardScaler\n",
    "from sklearn.model_selection import cross_val_score\n",
    "from sklearn.linear_model import LogisticRegression\n",
    "from sklearn.tree import DecisionTreeClassifier\n",
    "from sklearn.ensemble import RandomForestClassifier\n",
    "from sklearn.svm import LinearSVC"
   ]
  },
  {
   "cell_type": "code",
   "execution_count": 5,
   "metadata": {},
   "outputs": [],
   "source": [
    "#define the feature and target columns\n",
    "x_cols = ['Pregnancies', 'Glucose', 'BloodPressure', 'BMI',\n",
    "          'DiabetesPedigreeFunction', 'Age']\n",
    "x = pandas_df[x_cols]\n",
    "y = pandas_df[\"Outcome\"]"
   ]
  },
  {
   "cell_type": "code",
   "execution_count": 6,
   "metadata": {},
   "outputs": [],
   "source": [
    "#standarize the features using the standardScaler\n",
    "scaler = StandardScaler()\n",
    "x_scaled = scaler.fit_transform(x)"
   ]
  },
  {
   "cell_type": "code",
   "execution_count": 7,
   "metadata": {},
   "outputs": [],
   "source": [
    "#define a list of classifiers\n",
    "classifiers = [LogisticRegression(), DecisionTreeClassifier(),\n",
    "               RandomForestClassifier(), LinearSVC(max_iter=1500)]"
   ]
  },
  {
   "cell_type": "code",
   "execution_count": 15,
   "metadata": {},
   "outputs": [
    {
     "name": "stdout",
     "output_type": "stream",
     "text": [
      "LogisticRegression mean: 0.84\n",
      "DecisionTreeClassifier mean: 0.68\n",
      "RandomForestClassifier mean: 0.82\n",
      "LinearSVC mean: 0.84\n"
     ]
    }
   ],
   "source": [
    "#use a for-loop to perform ten-fold cross-validation\n",
    "for classifier in classifiers:\n",
    "    result = cross_val_score(\n",
    "        classifier,\n",
    "        x_scaled,\n",
    "        y,\n",
    "        cv=10,\n",
    "        scoring=\"roc_auc\"\n",
    "    )\n",
    "    print(\n",
    "        f\"{classifier.__class__.__name__} \"\n",
    "        f\"mean: {result.mean():.2f}\"\n",
    "    )\n"
   ]
  },
  {
   "cell_type": "code",
   "execution_count": null,
   "metadata": {},
   "outputs": [],
   "source": []
  }
 ],
 "metadata": {
  "kernelspec": {
   "display_name": "Orderly",
   "language": "python",
   "name": "python3"
  },
  "language_info": {
   "codemirror_mode": {
    "name": "ipython",
    "version": 3
   },
   "file_extension": ".py",
   "mimetype": "text/x-python",
   "name": "python",
   "nbconvert_exporter": "python",
   "pygments_lexer": "ipython3",
   "version": "3.10.14"
  }
 },
 "nbformat": 4,
 "nbformat_minor": 2
}
